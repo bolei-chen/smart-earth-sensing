{
 "cells": [
  {
   "cell_type": "code",
   "execution_count": 1,
   "metadata": {},
   "outputs": [],
   "source": [
    "import re \n",
    "import csv \n",
    "import h5py \n",
    "import glob \n",
    "import codecs\n",
    "import numpy as np \n",
    "import pandas as pd \n",
    "from matplotlib import pyplot as plt \n",
    "from functools import reduce \n",
    "\n",
    "from plottools import * "
   ]
  },
  {
   "cell_type": "code",
   "execution_count": 2,
   "metadata": {},
   "outputs": [],
   "source": [
    "with open(\"/Users/lei/home/studyhall/smart-earth-sensing/coal-selection/data/csvs/id_map.txt\", \"r\") as f:\n",
    "    specs = [re.sub(\" |\\n\", \"\", line).split(',') for line in f.readlines()]\n",
    "     \n",
    "id2uuid = {}       \n",
    "for spec in specs:\n",
    "    uuid = spec[0] \n",
    "    for i in range(1, len(spec)):\n",
    "        id2uuid[spec[i]] = uuid"
   ]
  },
  {
   "cell_type": "code",
   "execution_count": 3,
   "metadata": {},
   "outputs": [],
   "source": [
    "path = \"/Users/lei/home/studyhall/smart-earth-sensing/coal-selection/data/csvs/devices.csv\" \n",
    "with codecs.open(path, 'r', encoding='utf-8') as f:\n",
    "    data = [re.sub(\"\\n|\\r| \", \"\", sample).split(\",\")[:5] for sample in f]  \n",
    "data = [[sample[0], sample[1], sample[2], int(sample[3]), int(sample[4])] for sample in data]\n",
    "data = [sample for sample in data if sample[1] in id2uuid.keys()] \n",
    "data = [[sample[0], id2uuid[sample[1]]] for sample in data] \n",
    "belt_machine_uuids = [18000076, 19000077, 20000078, 21000079, 22000080, 23000081, 18000082, 19000083,\n",
    "                     20000084, 21000085, 22000086, 23000087] \n",
    "for uuid in belt_machine_uuids:\n",
    "    data.append(['皮带机', str(uuid)]) "
   ]
  },
  {
   "cell_type": "code",
   "execution_count": 4,
   "metadata": {},
   "outputs": [
    {
     "data": {
      "text/plain": [
       "[['device name',\n",
       "  'uuid',\n",
       "  'stable max',\n",
       "  'stable min',\n",
       "  'static max',\n",
       "  'static min'],\n",
       " ['精煤卧拖机', '12000039', '12.912445', '4.1622434', '12.929189', '4.1622434'],\n",
       " ['精煤卧拖机', '12000041', '12.781505', '5.1935325', '12.847846', '5.1935325'],\n",
       " ['精煤离心机', '13000042', '13.559508', '3.8813462', '13.578252', '3.8813462'],\n",
       " ['精煤卧拖机', '12000043', '12.971967', '4.6000056', '12.967839', '4.6000056']]"
      ]
     },
     "execution_count": 4,
     "metadata": {},
     "output_type": "execute_result"
    }
   ],
   "source": [
    "h5paths = \"/Users/lei/home/studyhall/smart-earth-sensing/coal-selection/data/h5s/*.h5\"  \n",
    "plot_path = \"/Users/lei/home/studyhall/smart-earth-sensing/coal-selection/plots/\" \n",
    "csv_data = [[\"device name\", \"uuid\", \"stable max\", \"stable min\", \"static max\", \"static min\"]] \n",
    "for sample in data:\n",
    "    name = sample[0] \n",
    "    uuid = sample[1] \n",
    "    stable_max, stable_min, static_max, static_min = generate_plot(h5path=h5paths, device_id=uuid, device_name=name, plot_path=plot_path) \n",
    "    csv_data.append([name, uuid, str(stable_max), str(stable_min), str(static_max), str(static_min)]) \n",
    "     \n",
    "csv_data[:5] "
   ]
  },
  {
   "cell_type": "code",
   "execution_count": 5,
   "metadata": {},
   "outputs": [],
   "source": [
    "csv_path = '/Users/lei/home/studyhall/smart-earth-sensing/coal-selection/data/stats.csv'\n",
    "\n",
    "with open(csv_path, 'w', newline='') as f:\n",
    "    csv_writer = csv.writer(f)\n",
    "    \n",
    "    for sample in csv_data:\n",
    "        csv_writer.writerow(sample)"
   ]
  },
  {
   "cell_type": "code",
   "execution_count": null,
   "metadata": {},
   "outputs": [],
   "source": []
  },
  {
   "cell_type": "code",
   "execution_count": null,
   "metadata": {},
   "outputs": [],
   "source": []
  }
 ],
 "metadata": {
  "kernelspec": {
   "display_name": "smart-earth-sensing",
   "language": "python",
   "name": "python3"
  },
  "language_info": {
   "codemirror_mode": {
    "name": "ipython",
    "version": 3
   },
   "file_extension": ".py",
   "mimetype": "text/x-python",
   "name": "python",
   "nbconvert_exporter": "python",
   "pygments_lexer": "ipython3",
   "version": "3.11.0"
  },
  "orig_nbformat": 4
 },
 "nbformat": 4,
 "nbformat_minor": 2
}
