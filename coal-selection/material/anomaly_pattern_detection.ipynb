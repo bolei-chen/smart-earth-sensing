{
 "cells": [
  {
   "cell_type": "code",
   "execution_count": null,
   "metadata": {},
   "outputs": [],
   "source": [
    "import sys \n",
    "import pickle \n",
    "import math \n",
    "from tqdm import tqdm\n",
    "from matplotlib import pyplot as plt \n",
    "sys.path.insert(0, '/Users/lei/home/studyhall/smart-earth-sensing/material/references/anomaly_pattern_detection') \n",
    "from anomaly_pattern_detection import anomaly_pattern_detection as apd"
   ]
  },
  {
   "cell_type": "code",
   "execution_count": null,
   "metadata": {},
   "outputs": [],
   "source": [
    "with open('/Users/lei/home/studyhall/smart-earth-sensing/material/pk_files/training_set_1920_1921.picklel', 'rb') as f:\n",
    "    X = np.array(pickle.load(f))\n",
    "# X = np.array(list(map(lambda l : list(map(lambda e : e[0], l)), X)))\n",
    "X.shape \n",
    " "
   ]
  },
  {
   "cell_type": "code",
   "execution_count": null,
   "metadata": {},
   "outputs": [],
   "source": [
    "with open('/Users/lei/home/studyhall/smart-earth-sensing/material/pk_files/testing_set_1920_1921.pkl', 'rb') as f:\n",
    "    z = np.array(pickle.load(f))\n",
    "z.shape "
   ]
  },
  {
   "cell_type": "code",
   "execution_count": null,
   "metadata": {},
   "outputs": [],
   "source": [
    "anomalies = apd(X=X, z=z, k=10, n=100000, s=500, alpha=0.1)"
   ]
  },
  {
   "cell_type": "code",
   "execution_count": null,
   "metadata": {},
   "outputs": [],
   "source": [
    "with open(\"anomalies.pkl\", 'wb') as f:\n",
    "    pickle.dump(anomalies, f)"
   ]
  },
  {
   "cell_type": "code",
   "execution_count": null,
   "metadata": {},
   "outputs": [],
   "source": [
    "binary_preds = list(map(lambda i : random.randint(0, 1), range(100)))"
   ]
  }
 ],
 "metadata": {
  "kernelspec": {
   "display_name": "smart-earth-sensing",
   "language": "python",
   "name": "python3"
  },
  "language_info": {
   "codemirror_mode": {
    "name": "ipython",
    "version": 3
   },
   "file_extension": ".py",
   "mimetype": "text/x-python",
   "name": "python",
   "nbconvert_exporter": "python",
   "pygments_lexer": "ipython3",
   "version": "3.10.12"
  },
  "orig_nbformat": 4
 },
 "nbformat": 4,
 "nbformat_minor": 2
}
