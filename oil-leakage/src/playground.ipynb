{
 "cells": [
  {
   "cell_type": "code",
   "execution_count": 4,
   "metadata": {},
   "outputs": [],
   "source": [
    "import sys\n",
    "sys.path.append('/Users/lei/home/studyhall/smart-earth-sensing/lib') \n",
    "import warnings\n",
    "warnings.filterwarnings('ignore')\n",
    " \n",
    "import csv \n",
    " \n",
    "from codedump import * "
   ]
  },
  {
   "cell_type": "code",
   "execution_count": 9,
   "metadata": {},
   "outputs": [],
   "source": [
    "with open('../data/leakge.csv', 'r') as f:\n",
    "    reader = csv.reader(f)\n",
    "    raw = [float(row[0]) for row in reader][1:]"
   ]
  },
  {
   "cell_type": "code",
   "execution_count": null,
   "metadata": {},
   "outputs": [],
   "source": [
    "with open('../models/', 'rb') as f:\n",
    "    kmeans_norm = pickle.load(f)\n",
    "with open('../models/', 'rb') as f:\n",
    "    kmeans_abnorm = pickle.load(f) \n",
    "\n",
    "centers_norm = kmeans_norm.cluster_centers_ \n",
    "centers_abnorm = kmeans_abnorm.cluster_centers_ \n",
    "sum_dist2norm = [sum([] for (x, y) in centers_norm) for s in raw] "
   ]
  },
  {
   "cell_type": "code",
   "execution_count": 2,
   "metadata": {},
   "outputs": [],
   "source": [
    "sr = 2000 \n",
    "data_norm = np.random.rand(1000000, 1) \n",
    "data_abnorm = np.random.rand(1000000, 1) \n",
    "data_train = np.random.rand(1000000, 1) "
   ]
  },
  {
   "cell_type": "code",
   "execution_count": 3,
   "metadata": {},
   "outputs": [],
   "source": [
    "kmeans_norm, kmeans_abnorm = get_best_kmeans(data_norm,\n",
    "                            data_abnorm, \n",
    "                            data_train, \n",
    "                            sr, \n",
    "                            'foo_pca.pkl', \n",
    "                            '/Users/lei/home/studyhall/smart-earth-sensing/oil-leakage/src/normal_kmeans',\n",
    "                            '/Users/lei/home/studyhall/smart-earth-sensing/oil-leakage/src/abnormal_kmeans')"
   ]
  }
 ],
 "metadata": {
  "kernelspec": {
   "display_name": "smart-earth-sensing",
   "language": "python",
   "name": "python3"
  },
  "language_info": {
   "codemirror_mode": {
    "name": "ipython",
    "version": 3
   },
   "file_extension": ".py",
   "mimetype": "text/x-python",
   "name": "python",
   "nbconvert_exporter": "python",
   "pygments_lexer": "ipython3",
   "version": "3.11.0"
  },
  "orig_nbformat": 4
 },
 "nbformat": 4,
 "nbformat_minor": 2
}
