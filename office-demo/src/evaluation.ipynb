{
 "cells": [
  {
   "cell_type": "code",
   "execution_count": 1,
   "metadata": {},
   "outputs": [],
   "source": [
    "import sys \n",
    "sys.path.append('/Users/lei/home/studyhall/smart-earth-sensing/lib') \n",
    "\n",
    "import pickle \n",
    "import numpy as np \n",
    " \n",
    "import torch\n",
    "from torchview import draw_graph \n",
    "\n",
    "from models import CNN\n",
    "from dataset import Audio_Dataset \n",
    "from utils import raw2mfcc "
   ]
  },
  {
   "cell_type": "code",
   "execution_count": 2,
   "metadata": {},
   "outputs": [
    {
     "data": {
      "text/plain": [
       "<All keys matched successfully>"
      ]
     },
     "execution_count": 2,
     "metadata": {},
     "output_type": "execute_result"
    }
   ],
   "source": [
    "cnn = CNN(device=torch.device(\"cpu\"), input_shape=(1, 26, 64))\n",
    "cnn.load_state_dict(torch.load(\"../models/cnn_100e_0005lr_500hz.pt\"))"
   ]
  },
  {
   "cell_type": "code",
   "execution_count": 3,
   "metadata": {},
   "outputs": [],
   "source": [
    "with open('../pk_files/train_val_dataset.pkl', 'rb') as f:\n",
    "    data_train, data_val = pickle.load(f) "
   ]
  },
  {
   "cell_type": "code",
   "execution_count": 4,
   "metadata": {},
   "outputs": [
    {
     "name": "stderr",
     "output_type": "stream",
     "text": [
      "/Users/lei/home/studyhall/smart-earth-sensing/lib/models.py:48: UserWarning: Implicit dimension choice for softmax has been deprecated. Change the call to include dim=X as an argument.\n",
      "  y_hat = self.softmax(self.linear3(y_hat))\n"
     ]
    },
    {
     "name": "stdout",
     "output_type": "stream",
     "text": [
      "0.9144551282051282\n"
     ]
    }
   ],
   "source": [
    "total_instances = 0 \n",
    "correct_preds = 0 \n",
    " \n",
    "for x, y in data_train:\n",
    "    y_hat = cnn(torch.reshape(x, (1, 1, 26, 64)))\n",
    "    if torch.argmax(y_hat) == torch.argmax(y):\n",
    "       correct_preds += 1\n",
    "    total_instances += 1 \n",
    " \n",
    "for x, y in data_val:\n",
    "    y_hat = cnn(torch.reshape(x, (1, 1, 26, 64)))\n",
    "    if torch.argmax(y_hat) == torch.argmax(y):\n",
    "       correct_preds += 1\n",
    "    total_instances += 1 \n",
    "\n",
    "print(correct_preds / total_instances) \n"
   ]
  },
  {
   "cell_type": "code",
   "execution_count": null,
   "metadata": {},
   "outputs": [],
   "source": []
  }
 ],
 "metadata": {
  "kernelspec": {
   "display_name": "smart-earth-sensing",
   "language": "python",
   "name": "python3"
  },
  "language_info": {
   "codemirror_mode": {
    "name": "ipython",
    "version": 3
   },
   "file_extension": ".py",
   "mimetype": "text/x-python",
   "name": "python",
   "nbconvert_exporter": "python",
   "pygments_lexer": "ipython3",
   "version": "3.11.0"
  },
  "orig_nbformat": 4
 },
 "nbformat": 4,
 "nbformat_minor": 2
}
